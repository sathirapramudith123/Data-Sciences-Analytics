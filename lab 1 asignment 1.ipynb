{
 "cells": [
  {
   "cell_type": "code",
   "execution_count": 2,
   "id": "f0c9ef85",
   "metadata": {},
   "outputs": [],
   "source": [
    "import pandas as pd\n",
    "import numpy as np\n",
    "from matplotlib import pyplot as plt"
   ]
  },
  {
   "cell_type": "code",
   "execution_count": 3,
   "id": "f9fbcae0",
   "metadata": {},
   "outputs": [],
   "source": [
    "raw_data=pd.read_csv(\"loan.csv\")"
   ]
  },
  {
   "cell_type": "code",
   "execution_count": 4,
   "id": "09a0e809",
   "metadata": {},
   "outputs": [
    {
     "data": {
      "text/html": [
       "<div>\n",
       "<style scoped>\n",
       "    .dataframe tbody tr th:only-of-type {\n",
       "        vertical-align: middle;\n",
       "    }\n",
       "\n",
       "    .dataframe tbody tr th {\n",
       "        vertical-align: top;\n",
       "    }\n",
       "\n",
       "    .dataframe thead th {\n",
       "        text-align: right;\n",
       "    }\n",
       "</style>\n",
       "<table border=\"1\" class=\"dataframe\">\n",
       "  <thead>\n",
       "    <tr style=\"text-align: right;\">\n",
       "      <th></th>\n",
       "      <th>id</th>\n",
       "      <th>member_id</th>\n",
       "      <th>loan_amnt</th>\n",
       "      <th>funded_amnt</th>\n",
       "      <th>funded_amnt_inv</th>\n",
       "      <th>term</th>\n",
       "      <th>int_rate</th>\n",
       "      <th>installment</th>\n",
       "      <th>grade</th>\n",
       "      <th>sub_grade</th>\n",
       "      <th>...</th>\n",
       "      <th>hardship_payoff_balance_amount</th>\n",
       "      <th>hardship_last_payment_amount</th>\n",
       "      <th>disbursement_method</th>\n",
       "      <th>debt_settlement_flag</th>\n",
       "      <th>debt_settlement_flag_date</th>\n",
       "      <th>settlement_status</th>\n",
       "      <th>settlement_date</th>\n",
       "      <th>settlement_amount</th>\n",
       "      <th>settlement_percentage</th>\n",
       "      <th>settlement_term</th>\n",
       "    </tr>\n",
       "  </thead>\n",
       "  <tbody>\n",
       "    <tr>\n",
       "      <th>0</th>\n",
       "      <td>NaN</td>\n",
       "      <td>NaN</td>\n",
       "      <td>2500</td>\n",
       "      <td>2500</td>\n",
       "      <td>2500</td>\n",
       "      <td>36 months</td>\n",
       "      <td>13.56</td>\n",
       "      <td>84.92</td>\n",
       "      <td>C</td>\n",
       "      <td>C1</td>\n",
       "      <td>...</td>\n",
       "      <td>NaN</td>\n",
       "      <td>NaN</td>\n",
       "      <td>Cash</td>\n",
       "      <td>N</td>\n",
       "      <td>NaN</td>\n",
       "      <td>NaN</td>\n",
       "      <td>NaN</td>\n",
       "      <td>NaN</td>\n",
       "      <td>NaN</td>\n",
       "      <td>NaN</td>\n",
       "    </tr>\n",
       "    <tr>\n",
       "      <th>1</th>\n",
       "      <td>NaN</td>\n",
       "      <td>NaN</td>\n",
       "      <td>30000</td>\n",
       "      <td>30000</td>\n",
       "      <td>30000</td>\n",
       "      <td>60 months</td>\n",
       "      <td>18.94</td>\n",
       "      <td>777.23</td>\n",
       "      <td>D</td>\n",
       "      <td>D2</td>\n",
       "      <td>...</td>\n",
       "      <td>NaN</td>\n",
       "      <td>NaN</td>\n",
       "      <td>Cash</td>\n",
       "      <td>N</td>\n",
       "      <td>NaN</td>\n",
       "      <td>NaN</td>\n",
       "      <td>NaN</td>\n",
       "      <td>NaN</td>\n",
       "      <td>NaN</td>\n",
       "      <td>NaN</td>\n",
       "    </tr>\n",
       "    <tr>\n",
       "      <th>2</th>\n",
       "      <td>NaN</td>\n",
       "      <td>NaN</td>\n",
       "      <td>5000</td>\n",
       "      <td>5000</td>\n",
       "      <td>5000</td>\n",
       "      <td>36 months</td>\n",
       "      <td>17.97</td>\n",
       "      <td>180.69</td>\n",
       "      <td>D</td>\n",
       "      <td>D1</td>\n",
       "      <td>...</td>\n",
       "      <td>NaN</td>\n",
       "      <td>NaN</td>\n",
       "      <td>Cash</td>\n",
       "      <td>N</td>\n",
       "      <td>NaN</td>\n",
       "      <td>NaN</td>\n",
       "      <td>NaN</td>\n",
       "      <td>NaN</td>\n",
       "      <td>NaN</td>\n",
       "      <td>NaN</td>\n",
       "    </tr>\n",
       "    <tr>\n",
       "      <th>3</th>\n",
       "      <td>NaN</td>\n",
       "      <td>NaN</td>\n",
       "      <td>4000</td>\n",
       "      <td>4000</td>\n",
       "      <td>4000</td>\n",
       "      <td>36 months</td>\n",
       "      <td>18.94</td>\n",
       "      <td>146.51</td>\n",
       "      <td>D</td>\n",
       "      <td>D2</td>\n",
       "      <td>...</td>\n",
       "      <td>NaN</td>\n",
       "      <td>NaN</td>\n",
       "      <td>Cash</td>\n",
       "      <td>N</td>\n",
       "      <td>NaN</td>\n",
       "      <td>NaN</td>\n",
       "      <td>NaN</td>\n",
       "      <td>NaN</td>\n",
       "      <td>NaN</td>\n",
       "      <td>NaN</td>\n",
       "    </tr>\n",
       "    <tr>\n",
       "      <th>4</th>\n",
       "      <td>NaN</td>\n",
       "      <td>NaN</td>\n",
       "      <td>30000</td>\n",
       "      <td>30000</td>\n",
       "      <td>30000</td>\n",
       "      <td>60 months</td>\n",
       "      <td>16.14</td>\n",
       "      <td>731.78</td>\n",
       "      <td>C</td>\n",
       "      <td>C4</td>\n",
       "      <td>...</td>\n",
       "      <td>NaN</td>\n",
       "      <td>NaN</td>\n",
       "      <td>Cash</td>\n",
       "      <td>N</td>\n",
       "      <td>NaN</td>\n",
       "      <td>NaN</td>\n",
       "      <td>NaN</td>\n",
       "      <td>NaN</td>\n",
       "      <td>NaN</td>\n",
       "      <td>NaN</td>\n",
       "    </tr>\n",
       "  </tbody>\n",
       "</table>\n",
       "<p>5 rows × 142 columns</p>\n",
       "</div>"
      ],
      "text/plain": [
       "   id  member_id  loan_amnt  funded_amnt  funded_amnt_inv        term  \\\n",
       "0 NaN        NaN       2500         2500             2500   36 months   \n",
       "1 NaN        NaN      30000        30000            30000   60 months   \n",
       "2 NaN        NaN       5000         5000             5000   36 months   \n",
       "3 NaN        NaN       4000         4000             4000   36 months   \n",
       "4 NaN        NaN      30000        30000            30000   60 months   \n",
       "\n",
       "   int_rate  installment grade sub_grade  ... hardship_payoff_balance_amount  \\\n",
       "0     13.56        84.92     C        C1  ...                            NaN   \n",
       "1     18.94       777.23     D        D2  ...                            NaN   \n",
       "2     17.97       180.69     D        D1  ...                            NaN   \n",
       "3     18.94       146.51     D        D2  ...                            NaN   \n",
       "4     16.14       731.78     C        C4  ...                            NaN   \n",
       "\n",
       "  hardship_last_payment_amount disbursement_method  debt_settlement_flag  \\\n",
       "0                          NaN                Cash                     N   \n",
       "1                          NaN                Cash                     N   \n",
       "2                          NaN                Cash                     N   \n",
       "3                          NaN                Cash                     N   \n",
       "4                          NaN                Cash                     N   \n",
       "\n",
       "  debt_settlement_flag_date settlement_status settlement_date  \\\n",
       "0                       NaN               NaN             NaN   \n",
       "1                       NaN               NaN             NaN   \n",
       "2                       NaN               NaN             NaN   \n",
       "3                       NaN               NaN             NaN   \n",
       "4                       NaN               NaN             NaN   \n",
       "\n",
       "  settlement_amount  settlement_percentage  settlement_term  \n",
       "0               NaN                    NaN              NaN  \n",
       "1               NaN                    NaN              NaN  \n",
       "2               NaN                    NaN              NaN  \n",
       "3               NaN                    NaN              NaN  \n",
       "4               NaN                    NaN              NaN  \n",
       "\n",
       "[5 rows x 142 columns]"
      ]
     },
     "execution_count": 4,
     "metadata": {},
     "output_type": "execute_result"
    }
   ],
   "source": [
    "raw_data.head()"
   ]
  },
  {
   "cell_type": "code",
   "execution_count": 5,
   "id": "1dcb5ef4",
   "metadata": {},
   "outputs": [
    {
     "data": {
      "text/plain": [
       "(20000, 142)"
      ]
     },
     "execution_count": 5,
     "metadata": {},
     "output_type": "execute_result"
    }
   ],
   "source": [
    "raw_data.shape"
   ]
  },
  {
   "cell_type": "code",
   "execution_count": 6,
   "id": "b4e6ac41",
   "metadata": {},
   "outputs": [
    {
     "data": {
      "text/plain": [
       "id                       float64\n",
       "member_id                float64\n",
       "loan_amnt                  int64\n",
       "funded_amnt                int64\n",
       "funded_amnt_inv            int64\n",
       "                          ...   \n",
       "settlement_status        float64\n",
       "settlement_date          float64\n",
       "settlement_amount        float64\n",
       "settlement_percentage    float64\n",
       "settlement_term          float64\n",
       "Length: 142, dtype: object"
      ]
     },
     "execution_count": 6,
     "metadata": {},
     "output_type": "execute_result"
    }
   ],
   "source": [
    "raw_data.dtypes"
   ]
  },
  {
   "cell_type": "code",
   "execution_count": 7,
   "id": "25203b24",
   "metadata": {},
   "outputs": [
    {
     "data": {
      "text/plain": [
       "count    20000.000000\n",
       "mean     16111.383750\n",
       "std      10369.193761\n",
       "min       1000.000000\n",
       "25%       8000.000000\n",
       "50%      14000.000000\n",
       "75%      22000.000000\n",
       "max      40000.000000\n",
       "Name: loan_amnt, dtype: float64"
      ]
     },
     "execution_count": 7,
     "metadata": {},
     "output_type": "execute_result"
    }
   ],
   "source": [
    "raw_data['loan_amnt'].describe()"
   ]
  },
  {
   "cell_type": "markdown",
   "id": "bda18000",
   "metadata": {},
   "source": [
    "# Removing irrelevant columns"
   ]
  },
  {
   "cell_type": "code",
   "execution_count": 8,
   "id": "f852ce9f",
   "metadata": {},
   "outputs": [],
   "source": [
    "raw_data= raw_data.drop(['zip_code', 'policy_code', 'application_type', 'last_credit_pull_d', \n",
    "'verification_status', 'pymnt_plan', 'funded_amnt_inv', 'sub_grade', 'out_prncp', \n",
    "'out_prncp_inv', 'total_pymnt_inv', 'total_pymnt', 'total_pymnt_inv', 'total_rec_prncp', \n",
    "'total_rec_int', 'total_rec_late_fee', 'recoveries', 'collection_recovery_fee', 'last_pymnt_d', \n",
    "'last_pymnt_amnt', 'initial_list_status'], axis =1) "
   ]
  },
  {
   "cell_type": "markdown",
   "id": "b30aa4a6",
   "metadata": {},
   "source": [
    "# Dealing with missing values "
   ]
  },
  {
   "cell_type": "code",
   "execution_count": 9,
   "id": "89c29232",
   "metadata": {
    "scrolled": true
   },
   "outputs": [
    {
     "name": "stdout",
     "output_type": "stream",
     "text": [
      "Column\t\t\t\t\t Null Values%\n",
      "id\t\t\t\t\t 100.0\n",
      "member_id\t\t\t\t\t 100.0\n",
      "url\t\t\t\t\t 100.0\n",
      "desc\t\t\t\t\t 100.0\n",
      "mths_since_last_delinq\t\t\t\t\t 56.375\n",
      "mths_since_last_record\t\t\t\t\t 88.41\n",
      "mths_since_last_major_derog\t\t\t\t\t 77.47\n",
      "annual_inc_joint\t\t\t\t\t 87.845\n",
      "dti_joint\t\t\t\t\t 87.845\n",
      "verification_status_joint\t\t\t\t\t 89.17\n",
      "mths_since_recent_bc_dlq\t\t\t\t\t 80.36\n",
      "mths_since_recent_revol_delinq\t\t\t\t\t 71.3\n",
      "revol_bal_joint\t\t\t\t\t 87.845\n",
      "sec_app_earliest_cr_line\t\t\t\t\t 87.845\n",
      "sec_app_inq_last_6mths\t\t\t\t\t 87.845\n",
      "sec_app_mort_acc\t\t\t\t\t 87.845\n",
      "sec_app_open_acc\t\t\t\t\t 87.845\n",
      "sec_app_revol_util\t\t\t\t\t 88.0\n",
      "sec_app_open_act_il\t\t\t\t\t 87.845\n",
      "sec_app_num_rev_accts\t\t\t\t\t 87.845\n",
      "sec_app_chargeoff_within_12_mths\t\t\t\t\t 87.845\n",
      "sec_app_collections_12_mths_ex_med\t\t\t\t\t 87.845\n",
      "sec_app_mths_since_last_major_derog\t\t\t\t\t 96.295\n",
      "hardship_type\t\t\t\t\t 100.0\n",
      "hardship_reason\t\t\t\t\t 100.0\n",
      "hardship_status\t\t\t\t\t 100.0\n",
      "deferral_term\t\t\t\t\t 100.0\n",
      "hardship_amount\t\t\t\t\t 100.0\n",
      "hardship_start_date\t\t\t\t\t 100.0\n",
      "hardship_end_date\t\t\t\t\t 100.0\n",
      "payment_plan_start_date\t\t\t\t\t 100.0\n",
      "hardship_length\t\t\t\t\t 100.0\n",
      "hardship_dpd\t\t\t\t\t 100.0\n",
      "hardship_loan_status\t\t\t\t\t 100.0\n",
      "orig_projected_additional_accrued_interest\t\t\t\t\t 100.0\n",
      "hardship_payoff_balance_amount\t\t\t\t\t 100.0\n",
      "hardship_last_payment_amount\t\t\t\t\t 100.0\n",
      "debt_settlement_flag_date\t\t\t\t\t 100.0\n",
      "settlement_status\t\t\t\t\t 100.0\n",
      "settlement_date\t\t\t\t\t 100.0\n",
      "settlement_amount\t\t\t\t\t 100.0\n",
      "settlement_percentage\t\t\t\t\t 100.0\n",
      "settlement_term\t\t\t\t\t 100.0\n",
      "A total of 43 deleted !\n"
     ]
    }
   ],
   "source": [
    "col_num=0 \n",
    "TotalObjects = raw_data.shape[0] \n",
    "print (\"Column\\t\\t\\t\\t\\t Null Values%\") \n",
    "for x in raw_data: \n",
    "    nullCount = raw_data[x].isnull().sum(); \n",
    "    nullPercent = nullCount*100 / (TotalObjects) \n",
    "    if nullCount > 0 and nullPercent > 20 : \n",
    "        col_num=col_num+1 \n",
    "        raw_data.drop(x, axis=1,inplace=True) \n",
    "        print(str(x)+\"\\t\\t\\t\\t\\t \"+str(nullPercent)) \n",
    "print (\"A total of \"+str(col_num)+\" deleted !\") "
   ]
  },
  {
   "cell_type": "code",
   "execution_count": 10,
   "id": "b0a94bf5",
   "metadata": {},
   "outputs": [],
   "source": [
    "raw_data['emp_title'].fillna('Unknown',inplace = True)"
   ]
  },
  {
   "cell_type": "code",
   "execution_count": 11,
   "id": "392d8de4",
   "metadata": {},
   "outputs": [],
   "source": [
    "raw_data['dti'].fillna(0,inplace=True)"
   ]
  },
  {
   "cell_type": "code",
   "execution_count": 12,
   "id": "a55bbb3c",
   "metadata": {},
   "outputs": [],
   "source": [
    "raw_data['revol_util'].fillna(raw_data['revol_util'].mean(),inplace = True)"
   ]
  },
  {
   "cell_type": "markdown",
   "id": "6f68c985",
   "metadata": {},
   "source": [
    "# Formatting data "
   ]
  },
  {
   "cell_type": "code",
   "execution_count": 13,
   "id": "c237d58a",
   "metadata": {},
   "outputs": [
    {
     "data": {
      "text/plain": [
       "array(['10+ years', '6 years', '4 years', '< 1 year', '2 years',\n",
       "       '9 years', nan, '5 years', '3 years', '7 years', '1 year',\n",
       "       '8 years'], dtype=object)"
      ]
     },
     "execution_count": 13,
     "metadata": {},
     "output_type": "execute_result"
    }
   ],
   "source": [
    "pd.unique(raw_data['emp_length'].values)"
   ]
  },
  {
   "cell_type": "code",
   "execution_count": 14,
   "id": "fdf4fa88",
   "metadata": {},
   "outputs": [],
   "source": [
    "raw_data['emp_title'].fillna(0,inplace = True)"
   ]
  },
  {
   "cell_type": "code",
   "execution_count": 15,
   "id": "2aa4e401",
   "metadata": {},
   "outputs": [
    {
     "data": {
      "text/plain": [
       "array(['10+ years', '6 years', '4 years', '< 1 year', '2 years',\n",
       "       '9 years', nan, '5 years', '3 years', '7 years', '1 year',\n",
       "       '8 years'], dtype=object)"
      ]
     },
     "execution_count": 15,
     "metadata": {},
     "output_type": "execute_result"
    }
   ],
   "source": [
    "pd.unique(raw_data['emp_length'].values)"
   ]
  },
  {
   "cell_type": "code",
   "execution_count": 16,
   "id": "46c67e5b",
   "metadata": {},
   "outputs": [],
   "source": [
    "raw_data['emp_length'].fillna(0,inplace = True)"
   ]
  },
  {
   "cell_type": "code",
   "execution_count": 17,
   "id": "6964047c",
   "metadata": {},
   "outputs": [
    {
     "data": {
      "text/plain": [
       "array(['10+ years', '6 years', '4 years', '< 1 year', '2 years',\n",
       "       '9 years', 0, '5 years', '3 years', '7 years', '1 year', '8 years'],\n",
       "      dtype=object)"
      ]
     },
     "execution_count": 17,
     "metadata": {},
     "output_type": "execute_result"
    }
   ],
   "source": [
    "pd.unique(raw_data['emp_length'].values)"
   ]
  },
  {
   "cell_type": "code",
   "execution_count": 18,
   "id": "92800dac",
   "metadata": {},
   "outputs": [],
   "source": [
    "def CalculateEmployeeLength(year): \n",
    "    if year == '< 1 year': \n",
    "        return 0.5 \n",
    "    elif year == '10+ years': \n",
    "        return 10 \n",
    "    else: \n",
    "        yr=str(year) \n",
    "        return yr.rstrip(' years')"
   ]
  },
  {
   "cell_type": "code",
   "execution_count": 19,
   "id": "ade525a6",
   "metadata": {},
   "outputs": [],
   "source": [
    "raw_data['emp_length']=raw_data['emp_length'].apply(CalculateEmployeeLength)"
   ]
  },
  {
   "cell_type": "markdown",
   "id": "a6ff38a2",
   "metadata": {},
   "source": [
    "# Visualizing data"
   ]
  },
  {
   "cell_type": "code",
   "execution_count": 20,
   "id": "b307883a",
   "metadata": {},
   "outputs": [],
   "source": [
    "def CalculateLoanRanges(value): \n",
    "    if value <= 5000: \n",
    "        return '5K and Below' \n",
    "    if value > 5000 and value <= 10000: \n",
    "        return '5K-10K' \n",
    "    if value > 10000 and value <= 15000: \n",
    "        return '10K-15K' \n",
    "    if value > 15000 and value <= 20000: \n",
    "        return '15K-20K' \n",
    "    if value > 20000 and value <= 25000: \n",
    "        return '20K-25K' \n",
    "    if value > 25000 and value <= 30000: \n",
    "        return '25K-30K' \n",
    "    if value > 30000 : \n",
    "        return '30K and Above' \n",
    "    return 'Other'"
   ]
  },
  {
   "cell_type": "code",
   "execution_count": 21,
   "id": "b96dbec0",
   "metadata": {},
   "outputs": [],
   "source": [
    "loan_ranges = raw_data['loan_amnt'].apply(CalculateLoanRanges)"
   ]
  },
  {
   "cell_type": "code",
   "execution_count": 22,
   "id": "4a7bc372",
   "metadata": {},
   "outputs": [
    {
     "data": {
      "text/plain": [
       "5K-10K           5063\n",
       "10K-15K          3472\n",
       "15K-20K          3118\n",
       "5K and Below     2898\n",
       "30K and Above    2268\n",
       "20K-25K          1834\n",
       "25K-30K          1347\n",
       "Name: loan_amnt, dtype: int64"
      ]
     },
     "execution_count": 22,
     "metadata": {},
     "output_type": "execute_result"
    }
   ],
   "source": [
    "loan_ranges.value_counts()"
   ]
  },
  {
   "cell_type": "code",
   "execution_count": 23,
   "id": "edfe32f1",
   "metadata": {},
   "outputs": [
    {
     "data": {
      "text/plain": [
       "Text(0.5, 1.0, 'Pie Chart of Loan Amount')"
      ]
     },
     "execution_count": 23,
     "metadata": {},
     "output_type": "execute_result"
    },
    {
     "data": {
      "image/png": "[encoded data removed]",
      "text/plain": [
       "<Figure size 640x480 with 1 Axes>"
      ]
     },
     "metadata": {},
     "output_type": "display_data"
    }
   ],
   "source": [
    "f = plt.figure() \n",
    "loan_ranges.value_counts().plot.pie(autopct='%1.0f%%',) \n",
    "plt.title('Pie Chart of Loan Amount')"
   ]
  },
  {
   "cell_type": "code",
   "execution_count": 24,
   "id": "d5f1898a",
   "metadata": {},
   "outputs": [
    {
     "data": {
      "text/plain": [
       "<AxesSubplot:>"
      ]
     },
     "execution_count": 24,
     "metadata": {},
     "output_type": "execute_result"
    },
    {
     "data": {
      "image/png": "[encoded data removed]",
      "text/plain": [
       "<Figure size 640x480 with 1 Axes>"
      ]
     },
     "metadata": {},
     "output_type": "display_data"
    }
   ],
   "source": [
    "pur = raw_data['purpose'].value_counts() \n",
    "pur.plot(kind='bar')"
   ]
  },
  {
   "cell_type": "code",
   "execution_count": 25,
   "id": "40a22692",
   "metadata": {},
   "outputs": [],
   "source": [
    "raw_data.to_csv('cleaned_loans2007.csv', index=False,encoding='utf-8')"
   ]
  },
  {
   "cell_type": "code",
   "execution_count": null,
   "id": "732fdb0e",
   "metadata": {},
   "outputs": [],
   "source": []
  }
 ],
 "metadata": {
  "kernelspec": {
   "display_name": "Python 3 (ipykernel)",
   "language": "python",
   "name": "python3"
  },
  "language_info": {
   "codemirror_mode": {
    "name": "ipython",
    "version": 3
   },
   "file_extension": ".py",
   "mimetype": "text/x-python",
   "name": "python",
   "nbconvert_exporter": "python",
   "pygments_lexer": "ipython3",
   "version": "3.7.3"
  }
 },
 "nbformat": 4,
 "nbformat_minor": 5
}
