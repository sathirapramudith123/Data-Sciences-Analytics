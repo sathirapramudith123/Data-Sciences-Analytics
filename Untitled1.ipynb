{
 "cells": [
  {
   "cell_type": "code",
   "execution_count": 74,
   "id": "289e9437",
   "metadata": {},
   "outputs": [],
   "source": [
    "import pandas as pd\n",
    "import numpy as np \n",
    "import matplotlib.pyplot as plt"
   ]
  },
  {
   "cell_type": "code",
   "execution_count": 75,
   "id": "ad9c5b12",
   "metadata": {},
   "outputs": [],
   "source": [
    "import seaborn as sns \n",
    "sns.set()"
   ]
  },
  {
   "cell_type": "code",
   "execution_count": 76,
   "id": "9c452dec",
   "metadata": {},
   "outputs": [],
   "source": [
    "car_data = pd.read_csv(\"CarPrice.csv\")"
   ]
  },
  {
   "cell_type": "code",
   "execution_count": 77,
   "id": "454532ad",
   "metadata": {},
   "outputs": [
    {
     "data": {
      "text/html": [
       "<div>\n",
       "<style scoped>\n",
       "    .dataframe tbody tr th:only-of-type {\n",
       "        vertical-align: middle;\n",
       "    }\n",
       "\n",
       "    .dataframe tbody tr th {\n",
       "        vertical-align: top;\n",
       "    }\n",
       "\n",
       "    .dataframe thead th {\n",
       "        text-align: right;\n",
       "    }\n",
       "</style>\n",
       "<table border=\"1\" class=\"dataframe\">\n",
       "  <thead>\n",
       "    <tr style=\"text-align: right;\">\n",
       "      <th></th>\n",
       "      <th>fuelType</th>\n",
       "      <th>length</th>\n",
       "      <th>height</th>\n",
       "      <th>cylinders</th>\n",
       "      <th>engine-size</th>\n",
       "      <th>hourse power</th>\n",
       "      <th>price</th>\n",
       "    </tr>\n",
       "  </thead>\n",
       "  <tbody>\n",
       "    <tr>\n",
       "      <th>0</th>\n",
       "      <td>gas</td>\n",
       "      <td>168.8</td>\n",
       "      <td>48.8</td>\n",
       "      <td>four</td>\n",
       "      <td>130</td>\n",
       "      <td>111</td>\n",
       "      <td>13495</td>\n",
       "    </tr>\n",
       "    <tr>\n",
       "      <th>1</th>\n",
       "      <td>gas</td>\n",
       "      <td>168.8</td>\n",
       "      <td>48.8</td>\n",
       "      <td>four</td>\n",
       "      <td>130</td>\n",
       "      <td>111</td>\n",
       "      <td>16500</td>\n",
       "    </tr>\n",
       "    <tr>\n",
       "      <th>2</th>\n",
       "      <td>gas</td>\n",
       "      <td>171.2</td>\n",
       "      <td>52.4</td>\n",
       "      <td>six</td>\n",
       "      <td>152</td>\n",
       "      <td>154</td>\n",
       "      <td>16500</td>\n",
       "    </tr>\n",
       "    <tr>\n",
       "      <th>3</th>\n",
       "      <td>gas</td>\n",
       "      <td>176.6</td>\n",
       "      <td>54.3</td>\n",
       "      <td>four</td>\n",
       "      <td>109</td>\n",
       "      <td>102</td>\n",
       "      <td>13950</td>\n",
       "    </tr>\n",
       "    <tr>\n",
       "      <th>4</th>\n",
       "      <td>gas</td>\n",
       "      <td>176.6</td>\n",
       "      <td>54.3</td>\n",
       "      <td>five</td>\n",
       "      <td>136</td>\n",
       "      <td>115</td>\n",
       "      <td>17450</td>\n",
       "    </tr>\n",
       "  </tbody>\n",
       "</table>\n",
       "</div>"
      ],
      "text/plain": [
       "  fuelType  length  height cylinders  engine-size  hourse power  price\n",
       "0      gas   168.8    48.8      four          130           111  13495\n",
       "1      gas   168.8    48.8      four          130           111  16500\n",
       "2      gas   171.2    52.4       six          152           154  16500\n",
       "3      gas   176.6    54.3      four          109           102  13950\n",
       "4      gas   176.6    54.3      five          136           115  17450"
      ]
     },
     "execution_count": 77,
     "metadata": {},
     "output_type": "execute_result"
    }
   ],
   "source": [
    "car_data.head()"
   ]
  },
  {
   "cell_type": "code",
   "execution_count": 78,
   "id": "d073ff2e",
   "metadata": {},
   "outputs": [
    {
     "data": {
      "text/plain": [
       "(195, 7)"
      ]
     },
     "execution_count": 78,
     "metadata": {},
     "output_type": "execute_result"
    }
   ],
   "source": [
    "car_data.shape"
   ]
  },
  {
   "cell_type": "code",
   "execution_count": 79,
   "id": "e870589d",
   "metadata": {},
   "outputs": [],
   "source": [
    "fueltype_data=car_data.iloc[:, 0]"
   ]
  },
  {
   "cell_type": "code",
   "execution_count": 80,
   "id": "56c8d0b9",
   "metadata": {},
   "outputs": [
    {
     "data": {
      "text/plain": [
       "0    gas\n",
       "1    gas\n",
       "2    gas\n",
       "3    gas\n",
       "4    gas\n",
       "Name: fuelType, dtype: object"
      ]
     },
     "execution_count": 80,
     "metadata": {},
     "output_type": "execute_result"
    }
   ],
   "source": [
    "fueltype_data.head()"
   ]
  },
  {
   "cell_type": "code",
   "execution_count": 81,
   "id": "85743bd9",
   "metadata": {},
   "outputs": [],
   "source": [
    "cylinderstype_data=car_data.iloc[:, 3]"
   ]
  },
  {
   "cell_type": "code",
   "execution_count": 82,
   "id": "48609cc3",
   "metadata": {},
   "outputs": [
    {
     "data": {
      "text/plain": [
       "0    four\n",
       "1    four\n",
       "2     six\n",
       "3    four\n",
       "4    five\n",
       "Name: cylinders, dtype: object"
      ]
     },
     "execution_count": 82,
     "metadata": {},
     "output_type": "execute_result"
    }
   ],
   "source": [
    "cylinderstype_data.head()"
   ]
  },
  {
   "cell_type": "code",
   "execution_count": 83,
   "id": "470c0dcc",
   "metadata": {},
   "outputs": [],
   "source": [
    "engine_size_data=car_data.iloc[:, 4]"
   ]
  },
  {
   "cell_type": "code",
   "execution_count": 84,
   "id": "a506be65",
   "metadata": {},
   "outputs": [
    {
     "data": {
      "text/plain": [
       "0    130\n",
       "1    130\n",
       "2    152\n",
       "3    109\n",
       "4    136\n",
       "Name: engine-size, dtype: int64"
      ]
     },
     "execution_count": 84,
     "metadata": {},
     "output_type": "execute_result"
    }
   ],
   "source": [
    "engine_size_data.head()"
   ]
  },
  {
   "cell_type": "code",
   "execution_count": 85,
   "id": "59119c29",
   "metadata": {},
   "outputs": [],
   "source": [
    "hourse_power_data = car_data.iloc[:, 5]"
   ]
  },
  {
   "cell_type": "code",
   "execution_count": 86,
   "id": "18f25804",
   "metadata": {},
   "outputs": [
    {
     "data": {
      "text/plain": [
       "0    111\n",
       "1    111\n",
       "2    154\n",
       "3    102\n",
       "4    115\n",
       "Name: hourse power, dtype: int64"
      ]
     },
     "execution_count": 86,
     "metadata": {},
     "output_type": "execute_result"
    }
   ],
   "source": [
    "hourse_power_data.head()"
   ]
  },
  {
   "cell_type": "code",
   "execution_count": 87,
   "id": "80db6b40",
   "metadata": {},
   "outputs": [],
   "source": [
    "price_data = car_data.iloc[:, 6]"
   ]
  },
  {
   "cell_type": "code",
   "execution_count": 88,
   "id": "af106047",
   "metadata": {},
   "outputs": [
    {
     "data": {
      "text/plain": [
       "0    13495\n",
       "1    16500\n",
       "2    16500\n",
       "3    13950\n",
       "4    17450\n",
       "Name: price, dtype: int64"
      ]
     },
     "execution_count": 88,
     "metadata": {},
     "output_type": "execute_result"
    }
   ],
   "source": [
    "price_data.head()"
   ]
  },
  {
   "cell_type": "code",
   "execution_count": 90,
   "id": "9d837bd7",
   "metadata": {},
   "outputs": [],
   "source": [
    "selected_df = pd.DataFrame({\n",
    "    'fueltype': fueltype_data,\n",
    "    'cylinders':cylinderstype_data,\n",
    "    'engine_size': engine_size_data,\n",
    "    'hourse_power': hourse_power_data,\n",
    "    'price': price_data\n",
    "})\n",
    "\n"
   ]
  },
  {
   "cell_type": "code",
   "execution_count": 91,
   "id": "437ee872",
   "metadata": {},
   "outputs": [
    {
     "data": {
      "text/html": [
       "<div>\n",
       "<style scoped>\n",
       "    .dataframe tbody tr th:only-of-type {\n",
       "        vertical-align: middle;\n",
       "    }\n",
       "\n",
       "    .dataframe tbody tr th {\n",
       "        vertical-align: top;\n",
       "    }\n",
       "\n",
       "    .dataframe thead th {\n",
       "        text-align: right;\n",
       "    }\n",
       "</style>\n",
       "<table border=\"1\" class=\"dataframe\">\n",
       "  <thead>\n",
       "    <tr style=\"text-align: right;\">\n",
       "      <th></th>\n",
       "      <th>fueltype</th>\n",
       "      <th>cylinders</th>\n",
       "      <th>engine_size</th>\n",
       "      <th>hourse_power</th>\n",
       "      <th>price</th>\n",
       "    </tr>\n",
       "  </thead>\n",
       "  <tbody>\n",
       "    <tr>\n",
       "      <th>0</th>\n",
       "      <td>gas</td>\n",
       "      <td>four</td>\n",
       "      <td>130</td>\n",
       "      <td>111</td>\n",
       "      <td>13495</td>\n",
       "    </tr>\n",
       "    <tr>\n",
       "      <th>1</th>\n",
       "      <td>gas</td>\n",
       "      <td>four</td>\n",
       "      <td>130</td>\n",
       "      <td>111</td>\n",
       "      <td>16500</td>\n",
       "    </tr>\n",
       "    <tr>\n",
       "      <th>2</th>\n",
       "      <td>gas</td>\n",
       "      <td>six</td>\n",
       "      <td>152</td>\n",
       "      <td>154</td>\n",
       "      <td>16500</td>\n",
       "    </tr>\n",
       "    <tr>\n",
       "      <th>3</th>\n",
       "      <td>gas</td>\n",
       "      <td>four</td>\n",
       "      <td>109</td>\n",
       "      <td>102</td>\n",
       "      <td>13950</td>\n",
       "    </tr>\n",
       "    <tr>\n",
       "      <th>4</th>\n",
       "      <td>gas</td>\n",
       "      <td>five</td>\n",
       "      <td>136</td>\n",
       "      <td>115</td>\n",
       "      <td>17450</td>\n",
       "    </tr>\n",
       "  </tbody>\n",
       "</table>\n",
       "</div>"
      ],
      "text/plain": [
       "  fueltype cylinders  engine_size  hourse_power  price\n",
       "0      gas      four          130           111  13495\n",
       "1      gas      four          130           111  16500\n",
       "2      gas       six          152           154  16500\n",
       "3      gas      four          109           102  13950\n",
       "4      gas      five          136           115  17450"
      ]
     },
     "execution_count": 91,
     "metadata": {},
     "output_type": "execute_result"
    }
   ],
   "source": [
    "selected_df.head()"
   ]
  },
  {
   "cell_type": "code",
   "execution_count": 94,
   "id": "816dfba2",
   "metadata": {},
   "outputs": [
    {
     "data": {
      "image/png": "[encoded data removed]",
      "text/plain": [
       "<Figure size 640x480 with 2 Axes>"
      ]
     },
     "metadata": {},
     "output_type": "display_data"
    }
   ],
   "source": [
    "colors = selected_df['fueltype'].astype('category').cat.codes\n",
    "\n",
    "plt.scatter(selected_df['engine_size'], selected_df['price'], c=colors, cmap='viridis', alpha=0.7)\n",
    "plt.xlabel('Engine Size')\n",
    "plt.ylabel('Price')\n",
    "plt.title('Engine Size vs Price colored by Fuel Type')\n",
    "plt.colorbar(label='Fuel Type Code')\n",
    "plt.show()"
   ]
  },
  {
   "cell_type": "code",
   "execution_count": null,
   "id": "09787bfc",
   "metadata": {},
   "outputs": [],
   "source": []
  }
 ],
 "metadata": {
  "kernelspec": {
   "display_name": "Python 3 (ipykernel)",
   "language": "python",
   "name": "python3"
  },
  "language_info": {
   "codemirror_mode": {
    "name": "ipython",
    "version": 3
   },
   "file_extension": ".py",
   "mimetype": "text/x-python",
   "name": "python",
   "nbconvert_exporter": "python",
   "pygments_lexer": "ipython3",
   "version": "3.7.0"
  }
 },
 "nbformat": 4,
 "nbformat_minor": 5
}
